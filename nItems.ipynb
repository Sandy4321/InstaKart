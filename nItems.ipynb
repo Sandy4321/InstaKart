{
 "cells": [
  {
   "cell_type": "code",
   "execution_count": 7,
   "metadata": {
    "collapsed": false
   },
   "outputs": [],
   "source": [
    "import pandas as pd\n",
    "import numpy as np\n",
    "\n",
    "df = pd.read_csv(\"nitems.csv\")"
   ]
  },
  {
   "cell_type": "code",
   "execution_count": 8,
   "metadata": {
    "collapsed": false
   },
   "outputs": [
    {
     "data": {
      "text/html": [
       "<div>\n",
       "<table border=\"1\" class=\"dataframe\">\n",
       "  <thead>\n",
       "    <tr style=\"text-align: right;\">\n",
       "      <th></th>\n",
       "      <th>order_id</th>\n",
       "      <th>user_id</th>\n",
       "      <th>eval_set</th>\n",
       "      <th>order_dow</th>\n",
       "      <th>order_hour_of_day</th>\n",
       "      <th>days_since_prior_order</th>\n",
       "      <th>n_basket_items</th>\n",
       "      <th>avg_basket</th>\n",
       "      <th>hour_day_bucket</th>\n",
       "      <th>avg_time_bucket_basket_0</th>\n",
       "      <th>...</th>\n",
       "      <th>fav_dpt_14</th>\n",
       "      <th>fav_dpt_15</th>\n",
       "      <th>fav_dpt_16</th>\n",
       "      <th>fav_dpt_17</th>\n",
       "      <th>fav_dpt_18</th>\n",
       "      <th>fav_dpt_19</th>\n",
       "      <th>fav_dpt_20</th>\n",
       "      <th>fav_dpt_21</th>\n",
       "      <th>n_last_order</th>\n",
       "      <th>n_highest</th>\n",
       "    </tr>\n",
       "  </thead>\n",
       "  <tbody>\n",
       "    <tr>\n",
       "      <th>0</th>\n",
       "      <td>1187899</td>\n",
       "      <td>1</td>\n",
       "      <td>train</td>\n",
       "      <td>4</td>\n",
       "      <td>8</td>\n",
       "      <td>14</td>\n",
       "      <td>10</td>\n",
       "      <td>5.185714</td>\n",
       "      <td>2</td>\n",
       "      <td>4.230769</td>\n",
       "      <td>...</td>\n",
       "      <td>0</td>\n",
       "      <td>0</td>\n",
       "      <td>0</td>\n",
       "      <td>0</td>\n",
       "      <td>0</td>\n",
       "      <td>1</td>\n",
       "      <td>0</td>\n",
       "      <td>0</td>\n",
       "      <td>4</td>\n",
       "      <td>10</td>\n",
       "    </tr>\n",
       "    <tr>\n",
       "      <th>1</th>\n",
       "      <td>1492625</td>\n",
       "      <td>2</td>\n",
       "      <td>train</td>\n",
       "      <td>1</td>\n",
       "      <td>11</td>\n",
       "      <td>30</td>\n",
       "      <td>12</td>\n",
       "      <td>8.646018</td>\n",
       "      <td>2</td>\n",
       "      <td>0.000000</td>\n",
       "      <td>...</td>\n",
       "      <td>0</td>\n",
       "      <td>0</td>\n",
       "      <td>1</td>\n",
       "      <td>0</td>\n",
       "      <td>0</td>\n",
       "      <td>0</td>\n",
       "      <td>0</td>\n",
       "      <td>0</td>\n",
       "      <td>11</td>\n",
       "      <td>14</td>\n",
       "    </tr>\n",
       "    <tr>\n",
       "      <th>2</th>\n",
       "      <td>2196797</td>\n",
       "      <td>5</td>\n",
       "      <td>train</td>\n",
       "      <td>0</td>\n",
       "      <td>11</td>\n",
       "      <td>6</td>\n",
       "      <td>4</td>\n",
       "      <td>3.869565</td>\n",
       "      <td>2</td>\n",
       "      <td>3.785714</td>\n",
       "      <td>...</td>\n",
       "      <td>0</td>\n",
       "      <td>0</td>\n",
       "      <td>0</td>\n",
       "      <td>0</td>\n",
       "      <td>0</td>\n",
       "      <td>0</td>\n",
       "      <td>0</td>\n",
       "      <td>0</td>\n",
       "      <td>2</td>\n",
       "      <td>8</td>\n",
       "    </tr>\n",
       "    <tr>\n",
       "      <th>3</th>\n",
       "      <td>525,192</td>\n",
       "      <td>7</td>\n",
       "      <td>train</td>\n",
       "      <td>2</td>\n",
       "      <td>11</td>\n",
       "      <td>6</td>\n",
       "      <td>8</td>\n",
       "      <td>8.316279</td>\n",
       "      <td>1</td>\n",
       "      <td>4.795918</td>\n",
       "      <td>...</td>\n",
       "      <td>0</td>\n",
       "      <td>0</td>\n",
       "      <td>0</td>\n",
       "      <td>0</td>\n",
       "      <td>0</td>\n",
       "      <td>0</td>\n",
       "      <td>0</td>\n",
       "      <td>0</td>\n",
       "      <td>4</td>\n",
       "      <td>20</td>\n",
       "    </tr>\n",
       "    <tr>\n",
       "      <th>4</th>\n",
       "      <td>880,375</td>\n",
       "      <td>8</td>\n",
       "      <td>train</td>\n",
       "      <td>1</td>\n",
       "      <td>14</td>\n",
       "      <td>10</td>\n",
       "      <td>4</td>\n",
       "      <td>3.835821</td>\n",
       "      <td>1</td>\n",
       "      <td>1.911765</td>\n",
       "      <td>...</td>\n",
       "      <td>0</td>\n",
       "      <td>0</td>\n",
       "      <td>0</td>\n",
       "      <td>0</td>\n",
       "      <td>0</td>\n",
       "      <td>0</td>\n",
       "      <td>0</td>\n",
       "      <td>0</td>\n",
       "      <td>5</td>\n",
       "      <td>8</td>\n",
       "    </tr>\n",
       "  </tbody>\n",
       "</table>\n",
       "<p>5 rows × 37 columns</p>\n",
       "</div>"
      ],
      "text/plain": [
       "  order_id  user_id eval_set  order_dow  order_hour_of_day  \\\n",
       "0  1187899        1    train          4                  8   \n",
       "1  1492625        2    train          1                 11   \n",
       "2  2196797        5    train          0                 11   \n",
       "3  525,192        7    train          2                 11   \n",
       "4  880,375        8    train          1                 14   \n",
       "\n",
       "   days_since_prior_order  n_basket_items  avg_basket  hour_day_bucket  \\\n",
       "0                      14              10    5.185714                2   \n",
       "1                      30              12    8.646018                2   \n",
       "2                       6               4    3.869565                2   \n",
       "3                       6               8    8.316279                1   \n",
       "4                      10               4    3.835821                1   \n",
       "\n",
       "   avg_time_bucket_basket_0    ...      fav_dpt_14  fav_dpt_15  fav_dpt_16  \\\n",
       "0                  4.230769    ...               0           0           0   \n",
       "1                  0.000000    ...               0           0           1   \n",
       "2                  3.785714    ...               0           0           0   \n",
       "3                  4.795918    ...               0           0           0   \n",
       "4                  1.911765    ...               0           0           0   \n",
       "\n",
       "   fav_dpt_17  fav_dpt_18  fav_dpt_19  fav_dpt_20  fav_dpt_21  n_last_order  \\\n",
       "0           0           0           1           0           0             4   \n",
       "1           0           0           0           0           0            11   \n",
       "2           0           0           0           0           0             2   \n",
       "3           0           0           0           0           0             4   \n",
       "4           0           0           0           0           0             5   \n",
       "\n",
       "   n_highest  \n",
       "0         10  \n",
       "1         14  \n",
       "2          8  \n",
       "3         20  \n",
       "4          8  \n",
       "\n",
       "[5 rows x 37 columns]"
      ]
     },
     "execution_count": 8,
     "metadata": {},
     "output_type": "execute_result"
    }
   ],
   "source": [
    "df.head()"
   ]
  },
  {
   "cell_type": "code",
   "execution_count": 34,
   "metadata": {
    "collapsed": false
   },
   "outputs": [],
   "source": [
    "np.random.seed(7)\n",
    "msk = np.random.rand(len(df)) < 0.8\n",
    "y_col = ['n_basket_items']\n",
    "x_col = ['order_dow', 'order_hour_of_day',\n",
    "       'days_since_prior_order', 'avg_basket',\n",
    "       'hour_day_bucket', 'avg_time_bucket_basket_0',\n",
    "       'avg_time_bucket_basket_1', 'avg_time_bucket_basket_2',\n",
    "       'avg_time_bucket_basket_3', 'department_id', 'fav_dpt_1', 'fav_dpt_2',\n",
    "       'fav_dpt_3', 'fav_dpt_4', 'fav_dpt_5', 'fav_dpt_6', 'fav_dpt_7',\n",
    "       'fav_dpt_8', 'fav_dpt_9', 'fav_dpt_10', 'fav_dpt_11', 'fav_dpt_12',\n",
    "       'fav_dpt_13', 'fav_dpt_14', 'fav_dpt_15', 'fav_dpt_16', 'fav_dpt_17',\n",
    "       'fav_dpt_18', 'fav_dpt_19', 'fav_dpt_20', 'fav_dpt_21', 'n_last_order',\n",
    "       'n_highest']\n",
    "\n",
    "train = df[msk]\n",
    "test = df[~msk]\n",
    "train_y, train_x = train[y_col], train[x_col]\n",
    "test_y, test_x = test[y_col], test[x_col]"
   ]
  },
  {
   "cell_type": "code",
   "execution_count": 35,
   "metadata": {
    "collapsed": false
   },
   "outputs": [
    {
     "name": "stdout",
     "output_type": "stream",
     "text": [
      "Fit regression model\n",
      "Predict\n"
     ]
    },
    {
     "data": {
      "text/plain": [
       "'\\n# Plot the results\\nplt.figure()\\nplt.scatter(X, y, c=\"darkorange\", label=\"data\")\\nplt.plot(X_test, y_1, color=\"cornflowerblue\", label=\"max_depth=2\", linewidth=2)\\nplt.plot(X_test, y_2, color=\"yellowgreen\", label=\"max_depth=5\", linewidth=2)\\nplt.xlabel(\"data\")\\nplt.ylabel(\"target\")\\nplt.title(\"Decision Tree Regression\")\\nplt.legend()\\nplt.show()'"
      ]
     },
     "execution_count": 35,
     "metadata": {},
     "output_type": "execute_result"
    }
   ],
   "source": [
    "from sklearn.tree import DecisionTreeRegressor\n",
    "from sklearn.metrics import mean_squared_error\n",
    "import matplotlib.pyplot as plt\n",
    "\n",
    "\n",
    "print(\"Fit regression model\")\n",
    "regr_1 = DecisionTreeRegressor(max_depth=2)\n",
    "regr_2 = DecisionTreeRegressor(max_depth=5)\n",
    "regr_1.fit(train_x, train_y)\n",
    "regr_2.fit(train_x, train_y)\n",
    "\n",
    "print(\"Predict\")\n",
    "y_1 = regr_1.predict(test_x)\n",
    "y_2 = regr_2.predict(test_x)\n",
    "\n",
    "\n",
    "\n",
    "'''\n",
    "# Plot the results\n",
    "plt.figure()\n",
    "plt.scatter(X, y, c=\"darkorange\", label=\"data\")\n",
    "plt.plot(X_test, y_1, color=\"cornflowerblue\", label=\"max_depth=2\", linewidth=2)\n",
    "plt.plot(X_test, y_2, color=\"yellowgreen\", label=\"max_depth=5\", linewidth=2)\n",
    "plt.xlabel(\"data\")\n",
    "plt.ylabel(\"target\")\n",
    "plt.title(\"Decision Tree Regression\")\n",
    "plt.legend()\n",
    "plt.show()'''"
   ]
  },
  {
   "cell_type": "code",
   "execution_count": 38,
   "metadata": {
    "collapsed": false
   },
   "outputs": [
    {
     "name": "stdout",
     "output_type": "stream",
     "text": [
      "15.2477684629\n",
      "3.54697698596\n"
     ]
    }
   ],
   "source": [
    "mse1 = mean_squared_error(y_1, test_y.as_matrix())\n",
    "print(mse1)\n",
    "mse2 = np.sqrt(mean_squared_error(y_2, test_y.as_matrix()))\n",
    "print(mse2)"
   ]
  },
  {
   "cell_type": "code",
   "execution_count": 44,
   "metadata": {
    "collapsed": false
   },
   "outputs": [],
   "source": [
    "#now for adaboost\n",
    "from sklearn.ensemble import AdaBoostRegressor\n",
    "\n",
    "rng = np.random.RandomState(7)\n",
    "ada_model = AdaBoostRegressor(DecisionTreeRegressor(max_depth=4),\n",
    "                          n_estimators=300, random_state=rng)\n",
    "\n",
    "\n",
    "ada_model.fit(train_x, train_y.values.ravel())\n",
    "\n",
    "# Predict\n",
    "ada_y = ada_model.predict(test_x)"
   ]
  },
  {
   "cell_type": "code",
   "execution_count": 45,
   "metadata": {
    "collapsed": false
   },
   "outputs": [
    {
     "data": {
      "text/plain": [
       "15.976303428141012"
      ]
     },
     "execution_count": 45,
     "metadata": {},
     "output_type": "execute_result"
    }
   ],
   "source": [
    "mse_ada = mean_squared_error(ada_y, test_y.as_matrix())\n",
    "mse_ada"
   ]
  },
  {
   "cell_type": "code",
   "execution_count": 52,
   "metadata": {
    "collapsed": false
   },
   "outputs": [
    {
     "ename": "NameError",
     "evalue": "name 'score' is not defined",
     "output_type": "error",
     "traceback": [
      "\u001b[0;31m---------------------------------------------------------------------------\u001b[0m",
      "\u001b[0;31mNameError\u001b[0m                                 Traceback (most recent call last)",
      "\u001b[0;32m<ipython-input-52-3192949dddca>\u001b[0m in \u001b[0;36m<module>\u001b[0;34m()\u001b[0m\n\u001b[0;32m----> 1\u001b[0;31m \u001b[0mscore\u001b[0m\u001b[0;34m(\u001b[0m\u001b[0mtest_x\u001b[0m\u001b[0;34m,\u001b[0m \u001b[0mtest_yy\u001b[0m\u001b[0;34m,\u001b[0m \u001b[0msample_weight\u001b[0m\u001b[0;34m=\u001b[0m\u001b[0;32mNone\u001b[0m\u001b[0;34m)\u001b[0m\u001b[0;34m\u001b[0m\u001b[0m\n\u001b[0m",
      "\u001b[0;31mNameError\u001b[0m: name 'score' is not defined"
     ]
    }
   ],
   "source": [
    "score(test_x, test_yy, sample_weight=None)"
   ]
  },
  {
   "cell_type": "code",
   "execution_count": 75,
   "metadata": {
    "collapsed": false
   },
   "outputs": [],
   "source": [
    "'''\n",
    "The real deal. Setting up grid search methods for fine tuning GBR\n",
    "'''\n",
    "#Import libraries:\n",
    "import pandas as pd\n",
    "import numpy as np\n",
    "from sklearn.ensemble import GradientBoostingRegressor  #GBM algorithm\n",
    "from sklearn.tree import DecisionTreeRegressor #decsion tree regression\n",
    "from sklearn.ensemble import AdaBoostRegressor #AdaBoost\n",
    "from sklearn import metrics\n",
    "from sklearn.grid_search import GridSearchCV   #for grid search over parameters\n",
    "import matplotlib.pyplot as plt\n"
   ]
  },
  {
   "cell_type": "code",
   "execution_count": 2,
   "metadata": {
    "collapsed": false
   },
   "outputs": [
    {
     "data": {
      "text/html": [
       "<div>\n",
       "<table border=\"1\" class=\"dataframe\">\n",
       "  <thead>\n",
       "    <tr style=\"text-align: right;\">\n",
       "      <th></th>\n",
       "      <th>user_id</th>\n",
       "      <th>dept</th>\n",
       "      <th>dept_id</th>\n",
       "      <th>prob_purchased</th>\n",
       "    </tr>\n",
       "  </thead>\n",
       "  <tbody>\n",
       "    <tr>\n",
       "      <th>0</th>\n",
       "      <td>2</td>\n",
       "      <td>meat seafood</td>\n",
       "      <td>12</td>\n",
       "      <td>0.120269</td>\n",
       "    </tr>\n",
       "    <tr>\n",
       "      <th>1</th>\n",
       "      <td>7</td>\n",
       "      <td>meat seafood</td>\n",
       "      <td>12</td>\n",
       "      <td>0.345530</td>\n",
       "    </tr>\n",
       "    <tr>\n",
       "      <th>2</th>\n",
       "      <td>9</td>\n",
       "      <td>meat seafood</td>\n",
       "      <td>12</td>\n",
       "      <td>0.286382</td>\n",
       "    </tr>\n",
       "    <tr>\n",
       "      <th>3</th>\n",
       "      <td>10</td>\n",
       "      <td>meat seafood</td>\n",
       "      <td>12</td>\n",
       "      <td>0.634088</td>\n",
       "    </tr>\n",
       "    <tr>\n",
       "      <th>4</th>\n",
       "      <td>14</td>\n",
       "      <td>meat seafood</td>\n",
       "      <td>12</td>\n",
       "      <td>0.168476</td>\n",
       "    </tr>\n",
       "  </tbody>\n",
       "</table>\n",
       "</div>"
      ],
      "text/plain": [
       "   user_id          dept  dept_id  prob_purchased\n",
       "0        2  meat seafood       12        0.120269\n",
       "1        7  meat seafood       12        0.345530\n",
       "2        9  meat seafood       12        0.286382\n",
       "3       10  meat seafood       12        0.634088\n",
       "4       14  meat seafood       12        0.168476"
      ]
     },
     "execution_count": 2,
     "metadata": {},
     "output_type": "execute_result"
    }
   ],
   "source": [
    "import pandas as pd\n",
    "dept_df=pd.read_csv('user_department_predictions.csv')\n",
    "dept_df.head()"
   ]
  },
  {
   "cell_type": "code",
   "execution_count": 68,
   "metadata": {
    "collapsed": false
   },
   "outputs": [
    {
     "data": {
      "text/html": [
       "<div>\n",
       "<table border=\"1\" class=\"dataframe\">\n",
       "  <thead>\n",
       "    <tr style=\"text-align: right;\">\n",
       "      <th></th>\n",
       "      <th>user_id</th>\n",
       "      <th>dept_score_1</th>\n",
       "      <th>dept_score_2</th>\n",
       "      <th>dept_score_3</th>\n",
       "      <th>dept_score_4</th>\n",
       "      <th>dept_score_5</th>\n",
       "      <th>dept_score_6</th>\n",
       "      <th>dept_score_7</th>\n",
       "      <th>dept_score_8</th>\n",
       "      <th>dept_score_9</th>\n",
       "      <th>...</th>\n",
       "      <th>dept_score_12</th>\n",
       "      <th>dept_score_13</th>\n",
       "      <th>dept_score_14</th>\n",
       "      <th>dept_score_15</th>\n",
       "      <th>dept_score_16</th>\n",
       "      <th>dept_score_17</th>\n",
       "      <th>dept_score_18</th>\n",
       "      <th>dept_score_19</th>\n",
       "      <th>dept_score_20</th>\n",
       "      <th>dept_score_21</th>\n",
       "    </tr>\n",
       "  </thead>\n",
       "  <tbody>\n",
       "    <tr>\n",
       "      <th>0</th>\n",
       "      <td>37</td>\n",
       "      <td>0.0</td>\n",
       "      <td>0.0</td>\n",
       "      <td>0.0</td>\n",
       "      <td>0.0</td>\n",
       "      <td>0.0</td>\n",
       "      <td>0.0</td>\n",
       "      <td>0.0</td>\n",
       "      <td>0.0</td>\n",
       "      <td>0.0</td>\n",
       "      <td>...</td>\n",
       "      <td>0.343027</td>\n",
       "      <td>0.0</td>\n",
       "      <td>0.0</td>\n",
       "      <td>0.0</td>\n",
       "      <td>0.0</td>\n",
       "      <td>0.0</td>\n",
       "      <td>0.0</td>\n",
       "      <td>0.0</td>\n",
       "      <td>0.0</td>\n",
       "      <td>0.0</td>\n",
       "    </tr>\n",
       "    <tr>\n",
       "      <th>1</th>\n",
       "      <td>54</td>\n",
       "      <td>0.0</td>\n",
       "      <td>0.0</td>\n",
       "      <td>0.0</td>\n",
       "      <td>0.0</td>\n",
       "      <td>0.0</td>\n",
       "      <td>0.0</td>\n",
       "      <td>0.0</td>\n",
       "      <td>0.0</td>\n",
       "      <td>0.0</td>\n",
       "      <td>...</td>\n",
       "      <td>0.286242</td>\n",
       "      <td>0.0</td>\n",
       "      <td>0.0</td>\n",
       "      <td>0.0</td>\n",
       "      <td>0.0</td>\n",
       "      <td>0.0</td>\n",
       "      <td>0.0</td>\n",
       "      <td>0.0</td>\n",
       "      <td>0.0</td>\n",
       "      <td>0.0</td>\n",
       "    </tr>\n",
       "    <tr>\n",
       "      <th>2</th>\n",
       "      <td>61</td>\n",
       "      <td>0.0</td>\n",
       "      <td>0.0</td>\n",
       "      <td>0.0</td>\n",
       "      <td>0.0</td>\n",
       "      <td>0.0</td>\n",
       "      <td>0.0</td>\n",
       "      <td>0.0</td>\n",
       "      <td>0.0</td>\n",
       "      <td>0.0</td>\n",
       "      <td>...</td>\n",
       "      <td>0.634655</td>\n",
       "      <td>0.0</td>\n",
       "      <td>0.0</td>\n",
       "      <td>0.0</td>\n",
       "      <td>0.0</td>\n",
       "      <td>0.0</td>\n",
       "      <td>0.0</td>\n",
       "      <td>0.0</td>\n",
       "      <td>0.0</td>\n",
       "      <td>0.0</td>\n",
       "    </tr>\n",
       "    <tr>\n",
       "      <th>3</th>\n",
       "      <td>85</td>\n",
       "      <td>0.0</td>\n",
       "      <td>0.0</td>\n",
       "      <td>0.0</td>\n",
       "      <td>0.0</td>\n",
       "      <td>0.0</td>\n",
       "      <td>0.0</td>\n",
       "      <td>0.0</td>\n",
       "      <td>0.0</td>\n",
       "      <td>0.0</td>\n",
       "      <td>...</td>\n",
       "      <td>0.169770</td>\n",
       "      <td>0.0</td>\n",
       "      <td>0.0</td>\n",
       "      <td>0.0</td>\n",
       "      <td>0.0</td>\n",
       "      <td>0.0</td>\n",
       "      <td>0.0</td>\n",
       "      <td>0.0</td>\n",
       "      <td>0.0</td>\n",
       "      <td>0.0</td>\n",
       "    </tr>\n",
       "    <tr>\n",
       "      <th>4</th>\n",
       "      <td>118</td>\n",
       "      <td>0.0</td>\n",
       "      <td>0.0</td>\n",
       "      <td>0.0</td>\n",
       "      <td>0.0</td>\n",
       "      <td>0.0</td>\n",
       "      <td>0.0</td>\n",
       "      <td>0.0</td>\n",
       "      <td>0.0</td>\n",
       "      <td>0.0</td>\n",
       "      <td>...</td>\n",
       "      <td>0.201918</td>\n",
       "      <td>0.0</td>\n",
       "      <td>0.0</td>\n",
       "      <td>0.0</td>\n",
       "      <td>0.0</td>\n",
       "      <td>0.0</td>\n",
       "      <td>0.0</td>\n",
       "      <td>0.0</td>\n",
       "      <td>0.0</td>\n",
       "      <td>0.0</td>\n",
       "    </tr>\n",
       "  </tbody>\n",
       "</table>\n",
       "<p>5 rows × 22 columns</p>\n",
       "</div>"
      ],
      "text/plain": [
       "   user_id  dept_score_1  dept_score_2  dept_score_3  dept_score_4  \\\n",
       "0       37           0.0           0.0           0.0           0.0   \n",
       "1       54           0.0           0.0           0.0           0.0   \n",
       "2       61           0.0           0.0           0.0           0.0   \n",
       "3       85           0.0           0.0           0.0           0.0   \n",
       "4      118           0.0           0.0           0.0           0.0   \n",
       "\n",
       "   dept_score_5  dept_score_6  dept_score_7  dept_score_8  dept_score_9  \\\n",
       "0           0.0           0.0           0.0           0.0           0.0   \n",
       "1           0.0           0.0           0.0           0.0           0.0   \n",
       "2           0.0           0.0           0.0           0.0           0.0   \n",
       "3           0.0           0.0           0.0           0.0           0.0   \n",
       "4           0.0           0.0           0.0           0.0           0.0   \n",
       "\n",
       "       ...        dept_score_12  dept_score_13  dept_score_14  dept_score_15  \\\n",
       "0      ...             0.343027            0.0            0.0            0.0   \n",
       "1      ...             0.286242            0.0            0.0            0.0   \n",
       "2      ...             0.634655            0.0            0.0            0.0   \n",
       "3      ...             0.169770            0.0            0.0            0.0   \n",
       "4      ...             0.201918            0.0            0.0            0.0   \n",
       "\n",
       "   dept_score_16  dept_score_17  dept_score_18  dept_score_19  dept_score_20  \\\n",
       "0            0.0            0.0            0.0            0.0            0.0   \n",
       "1            0.0            0.0            0.0            0.0            0.0   \n",
       "2            0.0            0.0            0.0            0.0            0.0   \n",
       "3            0.0            0.0            0.0            0.0            0.0   \n",
       "4            0.0            0.0            0.0            0.0            0.0   \n",
       "\n",
       "   dept_score_21  \n",
       "0            0.0  \n",
       "1            0.0  \n",
       "2            0.0  \n",
       "3            0.0  \n",
       "4            0.0  \n",
       "\n",
       "[5 rows x 22 columns]"
      ]
     },
     "execution_count": 68,
     "metadata": {},
     "output_type": "execute_result"
    }
   ],
   "source": [
    "#read department csv\n",
    "dept_df=pd.read_csv('user_department_predictions.csv')\n",
    "\n",
    "#turn these into vectors\n",
    "def category_vectors(df):\n",
    "    #make a df of just user ids\n",
    "    user_dept_df = pd.DataFrame()\n",
    "    user_dept_df['user_id'] = df.user_id.unique()\n",
    "\n",
    "    for dept_n in range(1,22):\n",
    "        #create key\n",
    "        key = \"dept_score_\"+str(dept_n)\n",
    "        \n",
    "        temp_df = pd.DataFrame()\n",
    "        temp_df[['user_id',key]] = df[df.dept_id == dept_n][['user_id','prob_purchased']]\n",
    "\n",
    "        user_dept_df = pd.merge(user_dept_df, temp_df, on='user_id', how=\"left\")\n",
    "        \n",
    "    return user_dept_df\n",
    "\n",
    "user_dept_df = category_vectors(df)\n",
    "user_dept_df.fillna(0, inplace=True)\n",
    "user_dept_df.head()"
   ]
  },
  {
   "cell_type": "code",
   "execution_count": 69,
   "metadata": {
    "collapsed": false
   },
   "outputs": [],
   "source": [
    "#read the main and merge wityh department scores\n",
    "n_items_df = pd.read_csv('n_items.csv')\n",
    "n_items_df = pd.merge(n_items_df, user_dept_df, on=\"user_id\", how=\"left\")\n",
    "n_items_df.fillna(0, inplace=True)\n",
    "\n",
    "#split it and never use the test set please...\n",
    "np.random.seed(7)\n",
    "msk = np.random.rand(len(n_items_df)) < 0.9\n",
    "train = n_items_df[msk]\n",
    "test = n_items_df[~msk]\n",
    "\n",
    "#columns\n",
    "y_col = ['n_basket_items']\n",
    "x_col = ['order_dow',\n",
    "       'order_hour_of_day', 'days_since_prior_order', 'avg_basket',\n",
    "       'avg_time_bucket_basket_0', 'avg_time_bucket_basket_1',\n",
    "       'avg_time_bucket_basket_2', 'avg_time_bucket_basket_3', 'n_last_order',\n",
    "       'n_highest', 'std_basket', 'dept_score_1', 'dept_score_2',\n",
    "       'dept_score_3', 'dept_score_4', 'dept_score_5', 'dept_score_6',\n",
    "       'dept_score_7', 'dept_score_8', 'dept_score_9', 'dept_score_10',\n",
    "       'dept_score_11', 'dept_score_12', 'dept_score_13', 'dept_score_14',\n",
    "       'dept_score_15', 'dept_score_16', 'dept_score_17', 'dept_score_18',\n",
    "       'dept_score_19', 'dept_score_20', 'dept_score_21']"
   ]
  },
  {
   "cell_type": "code",
   "execution_count": 79,
   "metadata": {
    "collapsed": false
   },
   "outputs": [],
   "source": [
    "#cross validation function\n",
    "def cv_modelfit(alg, dtrain, y, predictors, performCV=False, printFeatureImportance=True, cv_folds=5):\n",
    "    #Fit the algorithm on the data\n",
    "    print(\"fit\")\n",
    "    alg.fit(dtrain[predictors], dtrain[y].values.ravel())\n",
    "        \n",
    "    #Predict training set:\n",
    "    dtrain_predictions = alg.predict(dtrain[predictors])\n",
    "    \n",
    "    #Perform cross-validation:\n",
    "\n",
    "    if performCV:\n",
    "        print(\"CV\")\n",
    "        cv_score = cross_validation.cross_val_score(alg, dtrain[predictors], dtrain[y].values.ravel(), cv=cv_folds, scoring='neg_mean_squared_error')\n",
    " \n",
    "    #Print model report:\n",
    "    print (\"\\nModel Report\")\n",
    "    print (\"MSE : %.4g\" % metrics.mean_squared_error(dtrain[y].values, dtrain_predictions))\n",
    "    \n",
    "    if performCV:\n",
    "        print (\"CV Score : Mean - %.7g | Std - %.7g | Min - %.7g | Max - %.7g\" % (np.mean(cv_score),np.std(cv_score),np.min(cv_score),np.max(cv_score)))\n",
    "        \n",
    "    #Print Feature Importance:\n",
    "    if printFeatureImportance:\n",
    "        feat_imp = pd.Series(alg.feature_importances_, predictors).sort_values(ascending=False)\n",
    "        feat_imp.plot(kind='bar', title='Feature Importances')\n",
    "        plt.ylabel('Feature Importance Score')"
   ]
  },
  {
   "cell_type": "code",
   "execution_count": 83,
   "metadata": {
    "collapsed": false
   },
   "outputs": [
    {
     "name": "stdout",
     "output_type": "stream",
     "text": [
      "DTR\n",
      "fit\n",
      "CV\n",
      "\n",
      "Model Report\n",
      "MSE : 12.22\n",
      "CV Score : Mean - -12.4303 | Std - 0.166633 | Min - -12.71544 | Max - -12.23039\n",
      "ADA\n",
      "fit\n"
     ]
    },
    {
     "name": "stderr",
     "output_type": "stream",
     "text": [
      "/Users/austin.slakey/anaconda/lib/python3.6/site-packages/sklearn/utils/validation.py:526: DataConversionWarning: A column-vector y was passed when a 1d array was expected. Please change the shape of y to (n_samples, ), for example using ravel().\n",
      "  y = column_or_1d(y, warn=True)\n"
     ]
    },
    {
     "name": "stdout",
     "output_type": "stream",
     "text": [
      "CV\n"
     ]
    },
    {
     "name": "stderr",
     "output_type": "stream",
     "text": [
      "/Users/austin.slakey/anaconda/lib/python3.6/site-packages/sklearn/utils/validation.py:526: DataConversionWarning: A column-vector y was passed when a 1d array was expected. Please change the shape of y to (n_samples, ), for example using ravel().\n",
      "  y = column_or_1d(y, warn=True)\n",
      "/Users/austin.slakey/anaconda/lib/python3.6/site-packages/sklearn/utils/validation.py:526: DataConversionWarning: A column-vector y was passed when a 1d array was expected. Please change the shape of y to (n_samples, ), for example using ravel().\n",
      "  y = column_or_1d(y, warn=True)\n",
      "/Users/austin.slakey/anaconda/lib/python3.6/site-packages/sklearn/utils/validation.py:526: DataConversionWarning: A column-vector y was passed when a 1d array was expected. Please change the shape of y to (n_samples, ), for example using ravel().\n",
      "  y = column_or_1d(y, warn=True)\n",
      "/Users/austin.slakey/anaconda/lib/python3.6/site-packages/sklearn/utils/validation.py:526: DataConversionWarning: A column-vector y was passed when a 1d array was expected. Please change the shape of y to (n_samples, ), for example using ravel().\n",
      "  y = column_or_1d(y, warn=True)\n",
      "/Users/austin.slakey/anaconda/lib/python3.6/site-packages/sklearn/utils/validation.py:526: DataConversionWarning: A column-vector y was passed when a 1d array was expected. Please change the shape of y to (n_samples, ), for example using ravel().\n",
      "  y = column_or_1d(y, warn=True)\n"
     ]
    },
    {
     "name": "stdout",
     "output_type": "stream",
     "text": [
      "\n",
      "Model Report\n",
      "MSE : 12.92\n",
      "CV Score : Mean - -13.35862 | Std - 0.3912215 | Min - -13.85166 | Max - -12.67697\n"
     ]
    }
   ],
   "source": [
    "#baseline models:\n",
    "rng = np.random.RandomState(7)\n",
    "\n",
    "gbm0 = GradientBoostingClassifier(random_state=rng)\n",
    "dtr = DecisionTreeRegressor(max_depth=5)\n",
    "ada = AdaBoostRegressor(DecisionTreeRegressor(max_depth=5),\n",
    "                          n_estimators=60, random_state=rng)\n",
    "\n",
    "print(\"DTR\")\n",
    "cv_modelfit(dtr, train, y_col, x_col)\n",
    "print(\"ADA\")\n",
    "cv_modelfit(ada, train, y_col, x_col)"
   ]
  },
  {
   "cell_type": "markdown",
   "metadata": {},
   "source": [
    "# Reading Data"
   ]
  },
  {
   "cell_type": "code",
   "execution_count": 1,
   "metadata": {
    "collapsed": false
   },
   "outputs": [
    {
     "name": "stdout",
     "output_type": "stream",
     "text": [
      "model shape (131209, 13)\n",
      "test shape (75000, 13)\n",
      "keys Index(['user_id', 'n_basket_items', 'order_number', 'order_dow',\n",
      "       'order_hour_of_day', 'days_since_prior_order', 'avg_basket',\n",
      "       'std_basket', 'hour_day_bucket', 'avg_time_bucket_basket_0',\n",
      "       'avg_time_bucket_basket_1', 'avg_time_bucket_basket_2',\n",
      "       'avg_time_bucket_basket_3'],\n",
      "      dtype='object')\n"
     ]
    }
   ],
   "source": [
    "import pandas as pd \n",
    "model_df = pd.read_csv(\"items_train.txt\")\n",
    "test_users = pd.read_csv(\"items_test.txt\")\n",
    "\n",
    "assert model_df.keys().all() == test_users.keys().all()\n",
    "print(\"model shape\",model_df.shape)\n",
    "print(\"test shape\",test_users.shape)\n",
    "print(\"keys\",model_df.keys())"
   ]
  },
  {
   "cell_type": "markdown",
   "metadata": {},
   "source": [
    "# Test Train Split"
   ]
  },
  {
   "cell_type": "code",
   "execution_count": 2,
   "metadata": {
    "collapsed": false
   },
   "outputs": [
    {
     "name": "stderr",
     "output_type": "stream",
     "text": [
      "/Users/austin.slakey/anaconda/lib/python3.6/site-packages/sklearn/cross_validation.py:44: DeprecationWarning: This module was deprecated in version 0.18 in favor of the model_selection module into which all the refactored classes and functions are moved. Also note that the interface of the new CV iterators are different from that of this module. This module will be removed in 0.20.\n",
      "  \"This module will be removed in 0.20.\", DeprecationWarning)\n",
      "/Users/austin.slakey/anaconda/lib/python3.6/site-packages/sklearn/grid_search.py:43: DeprecationWarning: This module was deprecated in version 0.18 in favor of the model_selection module into which all the refactored classes and functions are moved. This module will be removed in 0.20.\n",
      "  DeprecationWarning)\n"
     ]
    }
   ],
   "source": [
    "#Import libraries:\n",
    "import pandas as pd\n",
    "import numpy as np\n",
    "from sklearn.ensemble import GradientBoostingRegressor  #GBM algorithm\n",
    "from sklearn.tree import DecisionTreeRegressor #decsion tree regression\n",
    "from sklearn.ensemble import AdaBoostRegressor #AdaBoost\n",
    "from sklearn import metrics\n",
    "from sklearn.grid_search import GridSearchCV   #for grid search over parameters\n",
    "import matplotlib.pyplot as plt\n",
    "\n",
    "x_keys = ['order_number', 'order_dow',\n",
    "       'order_hour_of_day', 'days_since_prior_order', 'avg_basket',\n",
    "       'std_basket', 'hour_day_bucket', 'avg_time_bucket_basket_0',\n",
    "       'avg_time_bucket_basket_1', 'avg_time_bucket_basket_2',\n",
    "       'avg_time_bucket_basket_3']\n",
    "y_keys = ['n_basket_items']\n",
    "\n",
    "msk = np.random.rand(len(model_df)) < 0.8\n",
    "\n",
    "train = model_df[msk]\n",
    "test = model_df[~msk]\n",
    "train_y, train_x = train[y_keys], train[x_keys]\n",
    "test_y, test_x = test[y_keys], test[x_keys]"
   ]
  },
  {
   "cell_type": "markdown",
   "metadata": {},
   "source": [
    "# Modeling"
   ]
  },
  {
   "cell_type": "code",
   "execution_count": 3,
   "metadata": {
    "collapsed": true
   },
   "outputs": [],
   "source": [
    "#cross validation function\n",
    "def cv_modelfit(alg, dtrain, y, predictors, performCV=False, printFeatureImportance=True, cv_folds=5):\n",
    "    #Fit the algorithm on the data\n",
    "    print(\"fit\")\n",
    "    alg.fit(dtrain[predictors], dtrain[y].values.ravel())\n",
    "        \n",
    "    #Predict training set:\n",
    "    dtrain_predictions = alg.predict(dtrain[predictors])\n",
    "    \n",
    "    #Perform cross-validation:\n",
    "\n",
    "    if performCV:\n",
    "        print(\"CV\")\n",
    "        cv_score = cross_validation.cross_val_score(alg, dtrain[predictors], dtrain[y].values.ravel(), cv=cv_folds, scoring='neg_mean_squared_error')\n",
    " \n",
    "    #Print model report:\n",
    "    print (\"\\nModel Report\")\n",
    "    print (\"MSE : %.4g\" % metrics.mean_squared_error(dtrain[y].values, dtrain_predictions))\n",
    "    \n",
    "    if performCV:\n",
    "        print (\"CV Score : Mean - %.7g | Std - %.7g | Min - %.7g | Max - %.7g\" % (np.mean(cv_score),np.std(cv_score),np.min(cv_score),np.max(cv_score)))\n",
    "        \n",
    "    #Print Feature Importance:\n",
    "    if printFeatureImportance:\n",
    "        feat_imp = pd.Series(alg.feature_importances_, predictors).sort_values(ascending=False)\n",
    "        feat_imp.plot(kind='bar', title='Feature Importances')\n",
    "        plt.ylabel('Feature Importance Score')"
   ]
  },
  {
   "cell_type": "code",
   "execution_count": 4,
   "metadata": {
    "collapsed": false
   },
   "outputs": [
    {
     "name": "stdout",
     "output_type": "stream",
     "text": [
      "DTR\n",
      "fit\n",
      "\n",
      "Model Report\n",
      "MSE : 12.22\n",
      "GBM\n",
      "fit\n",
      "\n",
      "Model Report\n",
      "MSE : 10.37\n"
     ]
    },
    {
     "data": {
      "image/png": "[encoded data removed]",
      "text/plain": [
       "<matplotlib.figure.Figure at 0x1112f27f0>"
      ]
     },
     "metadata": {},
     "output_type": "display_data"
    }
   ],
   "source": [
    "%matplotlib inline\n",
    "#baseline models:\n",
    "rng = np.random.RandomState(7)\n",
    "\n",
    "gbm0 = GradientBoostingRegressor(random_state=rng)\n",
    "dtr = DecisionTreeRegressor(max_depth=5)\n",
    "ada = AdaBoostRegressor(DecisionTreeRegressor(max_depth=5),\n",
    "                          n_estimators=60, random_state=rng)\n",
    "\n",
    "print(\"DTR\")\n",
    "cv_modelfit(dtr, train, y_keys, x_keys)\n",
    "print(\"GBM\")\n",
    "cv_modelfit(gbm0, test, y_keys, x_keys)"
   ]
  },
  {
   "cell_type": "code",
   "execution_count": 5,
   "metadata": {
    "collapsed": false
   },
   "outputs": [
    {
     "data": {
      "text/plain": [
       "([mean: -11.30595, std: 0.52016, params: {'n_estimators': 60},\n",
       "  mean: -11.31018, std: 0.51826, params: {'n_estimators': 70},\n",
       "  mean: -11.30583, std: 0.52894, params: {'n_estimators': 80},\n",
       "  mean: -11.29580, std: 0.52939, params: {'n_estimators': 90},\n",
       "  mean: -11.29519, std: 0.52932, params: {'n_estimators': 100},\n",
       "  mean: -11.29800, std: 0.54118, params: {'n_estimators': 110}],\n",
       " {'n_estimators': 100},\n",
       " -11.295185910636496)"
      ]
     },
     "execution_count": 5,
     "metadata": {},
     "output_type": "execute_result"
    }
   ],
   "source": [
    "#N Estimators (opt = 100):\n",
    "param_test1 = {'n_estimators':list(range(60,120,10))}\n",
    "gsearch1 = GridSearchCV(estimator = GradientBoostingRegressor(learning_rate=0.1, min_samples_split=500,min_samples_leaf=50,max_depth=8,max_features='sqrt',subsample=0.8,random_state=10), \n",
    "param_grid = param_test1, scoring='neg_mean_squared_error',n_jobs=4,iid=False, cv=5)\n",
    "gsearch1.fit(test[x_keys],test[y_keys].values.ravel())\n",
    "gsearch1.grid_scores_, gsearch1.best_params_, gsearch1.best_score_"
   ]
  },
  {
   "cell_type": "code",
   "execution_count": 6,
   "metadata": {
    "collapsed": false
   },
   "outputs": [
    {
     "data": {
      "text/plain": [
       "([mean: -11.46117, std: 0.49023, params: {'max_depth': 5, 'min_samples_split': 50},\n",
       "  mean: -11.50036, std: 0.52166, params: {'max_depth': 5, 'min_samples_split': 100},\n",
       "  mean: -11.52691, std: 0.50937, params: {'max_depth': 5, 'min_samples_split': 150},\n",
       "  mean: -10.96048, std: 0.44431, params: {'max_depth': 10, 'min_samples_split': 50},\n",
       "  mean: -11.01696, std: 0.50443, params: {'max_depth': 10, 'min_samples_split': 100},\n",
       "  mean: -10.98839, std: 0.56768, params: {'max_depth': 10, 'min_samples_split': 150},\n",
       "  mean: -11.34236, std: 0.49489, params: {'max_depth': 15, 'min_samples_split': 50},\n",
       "  mean: -11.06203, std: 0.58582, params: {'max_depth': 15, 'min_samples_split': 100},\n",
       "  mean: -10.91838, std: 0.56341, params: {'max_depth': 15, 'min_samples_split': 150}],\n",
       " {'max_depth': 15, 'min_samples_split': 150},\n",
       " -10.918381453470342)"
      ]
     },
     "execution_count": 6,
     "metadata": {},
     "output_type": "execute_result"
    }
   ],
   "source": [
    "#Max Depth (opt=15) Min Samples Split (opt is 150)\n",
    "param_test2 = {'max_depth':list(range(5,20,5)), 'min_samples_split':list(range(50,200,50))}\n",
    "gsearch2 = GridSearchCV(estimator = GradientBoostingRegressor(learning_rate=0.1, n_estimators=100, max_features='sqrt', subsample=0.8, random_state=10), \n",
    "param_grid = param_test2, scoring='neg_mean_squared_error',n_jobs=4,iid=False, cv=5)\n",
    "gsearch2.fit(test[x_keys],test[y_keys].values.ravel())\n",
    "gsearch2.grid_scores_, gsearch2.best_params_, gsearch2.best_score_"
   ]
  },
  {
   "cell_type": "code",
   "execution_count": 8,
   "metadata": {
    "collapsed": false
   },
   "outputs": [
    {
     "data": {
      "text/plain": [
       "([mean: -10.75325, std: 0.46154, params: {'min_samples_leaf': 70},\n",
       "  mean: -10.80850, std: 0.42758, params: {'min_samples_leaf': 80},\n",
       "  mean: -10.87654, std: 0.52766, params: {'min_samples_leaf': 90},\n",
       "  mean: -10.86884, std: 0.49651, params: {'min_samples_leaf': 100},\n",
       "  mean: -10.81452, std: 0.48949, params: {'min_samples_leaf': 110},\n",
       "  mean: -10.84844, std: 0.54253, params: {'min_samples_leaf': 120}],\n",
       " {'min_samples_leaf': 70},\n",
       " -10.753249985252447)"
      ]
     },
     "execution_count": 8,
     "metadata": {},
     "output_type": "execute_result"
    }
   ],
   "source": [
    "#Min Samples Leaf (opt=70)\n",
    "param_test3 = {'min_samples_leaf':list(range(70,121,10))}\n",
    "gsearch3 = GridSearchCV(estimator = GradientBoostingRegressor(learning_rate=0.1, n_estimators=100, max_depth=15, max_features='sqrt', min_samples_split=150, subsample=0.8, random_state=10), \n",
    "param_grid = param_test3, scoring='neg_mean_squared_error',n_jobs=4,iid=False, cv=5)\n",
    "gsearch3.fit(test[x_keys],test[y_keys].values.ravel())\n",
    "gsearch3.grid_scores_, gsearch3.best_params_, gsearch3.best_score_"
   ]
  },
  {
   "cell_type": "code",
   "execution_count": 27,
   "metadata": {
    "collapsed": false
   },
   "outputs": [
    {
     "data": {
      "text/plain": [
       "([mean: -10.70492, std: 0.52810, params: {'max_features': 1},\n",
       "  mean: -10.83704, std: 0.50178, params: {'max_features': 2},\n",
       "  mean: -10.75325, std: 0.46154, params: {'max_features': 3}],\n",
       " {'max_features': 1},\n",
       " -10.704920062993198)"
      ]
     },
     "execution_count": 27,
     "metadata": {},
     "output_type": "execute_result"
    }
   ],
   "source": [
    "#max features (opt=1, Stumps!)\n",
    "#Min Samples Leaf (opt=70)\n",
    "param_test4 = {'max_features':list(range(1,4,1))}\n",
    "gsearch4 = GridSearchCV(estimator = GradientBoostingRegressor(learning_rate=0.1, n_estimators=100, max_depth=15, min_samples_leaf=70, min_samples_split=150, subsample=0.8, random_state=10), \n",
    "param_grid = param_test4, scoring='neg_mean_squared_error',n_jobs=4,iid=False, cv=5)\n",
    "gsearch4.fit(test[x_keys],test[y_keys].values.ravel())\n",
    "gsearch4.grid_scores_, gsearch4.best_params_, gsearch4.best_score_"
   ]
  },
  {
   "cell_type": "code",
   "execution_count": 29,
   "metadata": {
    "collapsed": false
   },
   "outputs": [
    {
     "data": {
      "text/plain": [
       "([mean: -10.86592, std: 0.48395, params: {'subsample': 0.6},\n",
       "  mean: -10.91534, std: 0.46996, params: {'subsample': 0.7},\n",
       "  mean: -10.85868, std: 0.49538, params: {'subsample': 0.75},\n",
       "  mean: -10.75325, std: 0.46154, params: {'subsample': 0.8},\n",
       "  mean: -10.75583, std: 0.47568, params: {'subsample': 0.85},\n",
       "  mean: -10.77137, std: 0.49884, params: {'subsample': 0.9}],\n",
       " {'subsample': 0.8},\n",
       " -10.753249985252447)"
      ]
     },
     "execution_count": 29,
     "metadata": {},
     "output_type": "execute_result"
    }
   ],
   "source": [
    "param_test5 = {'subsample':[0.6,0.7,0.75,0.8,0.85,0.9]}\n",
    "gsearch5 = GridSearchCV(estimator = GradientBoostingRegressor(learning_rate=0.1, n_estimators=100,max_depth=15,min_samples_split=150, min_samples_leaf=70, random_state=10,max_features=3),\n",
    "param_grid = param_test5, scoring='neg_mean_squared_error',n_jobs=4,iid=False, cv=5)\n",
    "gsearch5.fit(test[x_keys],test[y_keys].values.ravel())\n",
    "gsearch5.grid_scores_, gsearch5.best_params_, gsearch5.best_score_"
   ]
  },
  {
   "cell_type": "code",
   "execution_count": 32,
   "metadata": {
    "collapsed": false
   },
   "outputs": [
    {
     "name": "stdout",
     "output_type": "stream",
     "text": [
      "GBM\n",
      "fit\n",
      "\n",
      "Model Report\n",
      "MSE : 10.37\n",
      "GBM Tuned\n",
      "fit\n",
      "\n",
      "Model Report\n",
      "MSE : 5.44\n"
     ]
    },
    {
     "data": {
      "image/png": "[encoded data removed]",
      "text/plain": [
       "<matplotlib.figure.Figure at 0x114025588>"
      ]
     },
     "metadata": {},
     "output_type": "display_data"
    }
   ],
   "source": [
    "'''\n",
    "Optimal Parameters:\n",
    "min_samples_split: 150\n",
    "min_samples_leaf: 70\n",
    "max_depth: 15\n",
    "max_features: 3\n",
    "'''\n",
    "#Crank down learning rate/up n estimaters\n",
    "gbm_tuned = GradientBoostingRegressor(learning_rate=0.05, n_estimators=500,max_depth=15, min_samples_split=150,min_samples_leaf=70, subsample=0.8, random_state=10, max_features=3)\n",
    "print(\"GBM\")\n",
    "cv_modelfit(gbm0, test, y_keys, x_keys)\n",
    "print(\"GBM Tuned\")\n",
    "cv_modelfit(gbm_tuned, test, y_keys, x_keys)"
   ]
  },
  {
   "cell_type": "markdown",
   "metadata": {},
   "source": [
    "# Train on Larger Dataset then score the test users"
   ]
  },
  {
   "cell_type": "code",
   "execution_count": 37,
   "metadata": {
    "collapsed": false
   },
   "outputs": [
    {
     "name": "stdout",
     "output_type": "stream",
     "text": [
      "fit\n",
      "performance on holdout test set:\n",
      "5.44023521104\n"
     ]
    }
   ],
   "source": [
    "from sklearn.metrics import mean_squared_error\n",
    "#Train and score\n",
    "def modelfit(alg, dtest, dtrain, unknown, y, predictors):\n",
    "    #Fit the algorithm on the data\n",
    "    print(\"fit\")\n",
    "    alg.fit(dtrain[predictors], dtrain[y].values.ravel())\n",
    "        \n",
    "    #Predict training set:\n",
    "    dtest_predictions = alg.predict(dtest[predictors])\n",
    "    print(\"performance on holdout test set:\")\n",
    "    print(mean_squared_error(dtest_predictions, dtest[y].as_matrix()))\n",
    "    \n",
    "    unknown_predictions = alg.predict(unknown[predictors])\n",
    "    \n",
    "    return unknown_predictions\n",
    "    \n",
    "predictions = modelfit(gbm_tuned, test, test, test_users, y_keys, x_keys)"
   ]
  },
  {
   "cell_type": "code",
   "execution_count": 40,
   "metadata": {
    "collapsed": false
   },
   "outputs": [
    {
     "name": "stdout",
     "output_type": "stream",
     "text": [
      "fit\n",
      "performance on holdout test set:\n",
      "10.0697882921\n"
     ]
    }
   ],
   "source": [
    "#final Model :o\n",
    "final_predictions = modelfit(gbm_tuned, test, train, test_users, y_keys, x_keys)"
   ]
  },
  {
   "cell_type": "code",
   "execution_count": 45,
   "metadata": {
    "collapsed": false
   },
   "outputs": [
    {
     "data": {
      "text/plain": [
       "75000"
      ]
     },
     "execution_count": 45,
     "metadata": {},
     "output_type": "execute_result"
    }
   ],
   "source": [
    "len(final_predictions)"
   ]
  },
  {
   "cell_type": "code",
   "execution_count": 46,
   "metadata": {
    "collapsed": false
   },
   "outputs": [
    {
     "name": "stdout",
     "output_type": "stream",
     "text": [
      "   user_id  n_basket_items  order_number  order_dow  order_hour_of_day  \\\n",
      "0        3        5.904214            13          5                 15   \n",
      "1        4       -0.005815             6          3                 12   \n",
      "2        6        1.516739             4          3                 16   \n",
      "3       11        7.452950             8          6                 11   \n",
      "4       12        2.953709             6          1                 20   \n",
      "\n",
      "   days_since_prior_order  avg_basket  std_basket  hour_day_bucket  \\\n",
      "0                      11    4.659091    2.397377                1   \n",
      "1                      30    0.388889    0.487498                2   \n",
      "2                      22    1.000000    1.000000                0   \n",
      "3                       8    4.957447    3.695641                2   \n",
      "4                      30    3.324324    2.144182                2   \n",
      "\n",
      "   avg_time_bucket_basket_0  avg_time_bucket_basket_1  \\\n",
      "0                  3.076923                  5.322581   \n",
      "1                  1.000000                  0.000000   \n",
      "2                  1.000000                  0.000000   \n",
      "3                  0.000000                  5.000000   \n",
      "4                  0.000000                  5.000000   \n",
      "\n",
      "   avg_time_bucket_basket_2  avg_time_bucket_basket_3  \n",
      "0                  0.000000                       0.0  \n",
      "1                  0.000000                       0.0  \n",
      "2                  0.000000                       0.0  \n",
      "3                  4.952381                       0.0  \n",
      "4                  1.125000                       5.0  \n",
      "count    75000.000000\n",
      "mean         5.127056\n",
      "std          4.675331\n",
      "min         -1.323515\n",
      "25%          1.772617\n",
      "50%          3.867903\n",
      "75%          7.004130\n",
      "max         44.839445\n",
      "Name: n_basket_items, dtype: float64\n"
     ]
    }
   ],
   "source": [
    "test_users.n_basket_items = final_predictions\n",
    "print(test_users.head())\n",
    "print(test_users.n_basket_items.describe())"
   ]
  },
  {
   "cell_type": "code",
   "execution_count": 47,
   "metadata": {
    "collapsed": true
   },
   "outputs": [],
   "source": [
    "test_users.to_csv(\"n_items_predictions\")"
   ]
  }
 ],
 "metadata": {
  "kernelspec": {
   "display_name": "Python 3",
   "language": "python",
   "name": "python3"
  },
  "language_info": {
   "codemirror_mode": {
    "name": "ipython",
    "version": 3
   },
   "file_extension": ".py",
   "mimetype": "text/x-python",
   "name": "python",
   "nbconvert_exporter": "python",
   "pygments_lexer": "ipython3",
   "version": "3.6.0"
  }
 },
 "nbformat": 4,
 "nbformat_minor": 2
}
